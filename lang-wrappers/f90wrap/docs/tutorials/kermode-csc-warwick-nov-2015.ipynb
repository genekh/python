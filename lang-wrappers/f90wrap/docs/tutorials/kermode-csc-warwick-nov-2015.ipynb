{
 "cells": [
  {
   "cell_type": "markdown",
   "metadata": {
    "slideshow": {
     "slide_type": "slide"
    }
   },
   "source": [
    "<center>\n",
    "<img src=\"warwick-logo.png\">\n",
    "<h1>Interoperability between scientific computing codes with Python</h1>\n",
    "<h3>James Kermode</h3>\n",
    "Warwick Centre for Predictive Modelling / School of Engineering<br>\n",
    "University of Warwick\n",
    "<br>\n",
    "<br>\n",
    "**Centre for Scientific Computing seminar, University of Warwick - 16 Nov 2015**\n",
    "\n",
    "<img src=\"WCPM_logo_text.png\" width=\"50%\">\n",
    "\n",
    "</center>\n",
    "\n",
    "<br>\n",
    "<br>\n",
    "<br>\n",
    "<br>"
   ]
  },
  {
   "cell_type": "markdown",
   "metadata": {},
   "source": [
    "## Introduction\n",
    "\n",
    "- Interfacing codes allows existing tools to be combined\n",
    "- Produce something that is more than the sum of the constituent parts \n",
    "- This is a general feature of modern scientific computing, with many well-documented packages and libraries available\n",
    "- Python has emerged as the de facto standard “glue” language\n",
    "- Codes that have a Python interface can be combined in complex ways\n",
    "\n",
    "<img src=\"https://www.python.org/static/community_logos/python-logo-master-v3-TM.png\" width=\"40%\" >"
   ]
  },
  {
   "cell_type": "markdown",
   "metadata": {},
   "source": [
    "## Motivation\n",
    "\n",
    "- My examples are from atomistic materials modelling and electronic structure, but approach is general\n",
    "- All the activities I'm interested in require *robust*, *automated* coupling of two or more codes\n",
    "- For example, my current projects include:\n",
    "    - developing and applying multiscale methods\n",
    "    - generating interatomic potentials\n",
    "    - uncertainty quantification\n",
    "\n",
    "<img src=\"multiscale.png\" width=\"70%\">"
   ]
  },
  {
   "cell_type": "markdown",
   "metadata": {},
   "source": [
    "## Case study - concurrent coupling of density functional theory and interatomic potentials\n",
    "\n",
    "<img src=\"boron-crack-100dpi.png\" width=\"60%\">\n",
    "\n",
    "*J.R. Kermode, L. Ben-Bashat, F. Atrash, J.J. Cilliers, D. Sherman and A. De Vita, [Macroscopic scattering of cracks initiated at single impurity atoms.](http://www.nature.com/ncomms/2013/130912/ncomms3441/full/ncomms3441.html) Nat. Commun. 4, 2441 (2013).*\n",
    "\n",
    " - File-based communication good enough for many projects that combine codes\n",
    " - Here, efficient simlulations require a programmatic interface between QM and MM codes\n",
    " - Keeping previous solution in memory, wavefunction extrapolation, etc.\n",
    " - In general, deep interfaces approach bring much wider benefits"
   ]
  },
  {
   "cell_type": "markdown",
   "metadata": {},
   "source": [
    "#  Benefits of Scripting Interfaces\n",
    "\n",
    "**Primary:**\n",
    " - Automated preparation of input files\n",
    " - Analysis and post-processing\n",
    " - Batch processing\n",
    " \n",
    "**Secondary:**\n",
    " - Expand access to advanced feautures to less experienced programmers\n",
    " - Simplify too-level programs\n",
    " - Unit and regression testing framework\n",
    " \n",
    "**Longer term benefits:**\n",
    " - Encourages good software engineering in main code - modularity, well defined APIs\n",
    " - Speed up development of new algorithms by using an appropriate mixture of high- and low-level languages\n"
   ]
  },
  {
   "cell_type": "markdown",
   "metadata": {},
   "source": [
    "# Python scripting for interoperability\n",
    "\n",
    "- Python has emerged as *de facto* \"glue\" language for atomistic simulations\n",
    "    - [numpy](http://www.numpy.org/)/[scipy](http://scipy.org/) ecosystem\n",
    "    - [Matplotlib](http://matplotlib.org/) plotting/interactive graphics\n",
    "    - [Jupyter](https://jupyter.org/)/IPython notebooks encourage reproducible research\n",
    "    - [Anaconda](https://jupyter.org/) distribution and package management system\n",
    "    \n",
    "![scipy](scipy-stack.png)\n",
    "\n",
    "http://www.scipy.org"
   ]
  },
  {
   "cell_type": "markdown",
   "metadata": {},
   "source": [
    "## Atomic Simulation Environment (ASE)\n",
    "\n",
    "- Within atomistic modelling, standard for scripting interfaces is ASE\n",
    "- Wide range of calculators, flexible (but not too flexible) data model\n",
    "- Can use many codes as drop-in replacements\n",
    "- Collection of parsers aids validation and verification (cf. DFT $\\Delta$-code project)\n",
    "- Coupling $N$ codes requires maintaining $N$ parsers/interfaces to be maintained, not $N^2$ input-output converters\n",
    "- High-level functionality can be coded generically, or imported from other packages (e.g. `spglib`, `phonopy`) using minimal ASE-compatible API\n",
    "\n",
    "https://wiki.fysik.dtu.dk/ase/"
   ]
  },
  {
   "cell_type": "markdown",
   "metadata": {},
   "source": [
    "## QUIP - **QU**antum mechanics and **I**nteratomic **P**otentials\n",
    "\n",
    "- General-purpose library to manipulate atomic configurations, grew up in parallel with ASE \n",
    "- Includes interatomic potentials, tight binding, external codes such as Castep\n",
    "- Developed at Cambridge, NRL and King's College London over $\\sim10$ years\n",
    "- Started off as a pure Fortran 95 code, but recently been doing more and more in Python\n",
    "- `QUIP` has a full, deep Python interface, `quippy`, auto-generated from Fortran code using `f90wrap`, giving access to all public subroutines, derived types (classes) and data\n",
    "\n",
    "![quippy](http://libatoms.github.io/QUIP/_static/hybrid.png)\n",
    "\n",
    "http://libatoms.github.io/QUIP"
   ]
  },
  {
   "cell_type": "markdown",
   "metadata": {},
   "source": [
    "## Interactive demonstations\n",
    "\n",
    "- Using live IPython notebook linked to local Python kernel - could also be remote parallel cluster\n",
    "- Static view of notebook can be rendered as `.html` or `.pdf`, or as executable Python script"
   ]
  },
  {
   "cell_type": "code",
   "execution_count": 57,
   "metadata": {
    "collapsed": false
   },
   "outputs": [
    {
     "name": "stdout",
     "output_type": "stream",
     "text": [
      "Populating the interactive namespace from numpy and matplotlib\n"
     ]
    }
   ],
   "source": [
    "%pylab inline\n",
    "import numpy as np\n",
    "from chemview import enable_notebook\n",
    "from matscipy.visualise import view\n",
    "enable_notebook()"
   ]
  },
  {
   "cell_type": "markdown",
   "metadata": {},
   "source": [
    "## Example: vacancy formation energy in silicon\n",
    "\n",
    "- Typical example workflow, albeit simplified\n",
    "- Couples several tools\n",
    "    - Generate structure with ASE lattice tools\n",
    "    - Stillinger-Weber potential implementation from QUIP\n",
    "    - Relaxations with generic LBFGS optimiser from ASE"
   ]
  },
  {
   "cell_type": "code",
   "execution_count": 58,
   "metadata": {
    "collapsed": false
   },
   "outputs": [
    {
     "name": "stdout",
     "output_type": "stream",
     "text": [
      "LBFGSLineSearch:   0  13:20:46     -927.656224       0.0402\n",
      "LBFGSLineSearch:   1  13:20:47     -927.656744       0.0233\n",
      "LBFGSLineSearch:   2  13:20:47     -927.657016       0.0109\n",
      "LBFGSLineSearch:   3  13:20:47     -927.657090       0.0094\n",
      "LBFGSLineSearch:   4  13:20:47     -927.657155       0.0055\n",
      "LBFGSLineSearch:   5  13:20:48     -927.657201       0.0031\n",
      "LBFGSLineSearch:   6  13:20:48     -927.657214       0.0017\n",
      "LBFGSLineSearch:   7  13:20:48     -927.657219       0.0018\n",
      "LBFGSLineSearch:   8  13:20:48     -927.657223       0.0012\n",
      "LBFGSLineSearch:   9  13:20:49     -927.657225       0.0011\n",
      "LBFGSLineSearch:  10  13:20:49     -927.657226       0.0004\n",
      "SW vacancy formation energy 4.33384049255 eV\n"
     ]
    }
   ],
   "source": [
    "from ase.lattice import bulk\n",
    "from ase.optimize import LBFGSLineSearch\n",
    "from quippy.potential import Potential\n",
    "\n",
    "si = bulk('Si', a=5.44, cubic=True)\n",
    "sw_pot = Potential('IP SW') # call into Fortran code\n",
    "si.set_calculator(sw_pot)\n",
    "e_bulk_per_atom = si.get_potential_energy()/len(si)\n",
    "\n",
    "vac = si * (3, 3, 3)\n",
    "del vac[len(vac)/2]\n",
    "vac.set_calculator(sw_pot)\n",
    "p0 = vac.get_positions()\n",
    "opt = LBFGSLineSearch(vac)\n",
    "opt.run(fmax=1e-3)\n",
    "p1 = vac.get_positions()\n",
    "u = p1 - p0\n",
    "\n",
    "e_vac = vac.get_potential_energy()\n",
    "print 'SW vacancy formation energy', e_vac - e_bulk_per_atom*len(vac), 'eV'"
   ]
  },
  {
   "cell_type": "markdown",
   "metadata": {},
   "source": [
    "# Inline visualisation"
   ]
  },
  {
   "cell_type": "markdown",
   "metadata": {},
   "source": [
    "- Chemview IPython plugin uses WebGL for fast rendering of molecules\n",
    "- Didn't have an ASE interface, but was quick and easy to add one (~15 lines of code)"
   ]
  },
  {
   "cell_type": "code",
   "execution_count": 59,
   "metadata": {
    "collapsed": false
   },
   "outputs": [],
   "source": [
    "view(vac, np.sqrt(u**2).sum(axis=1), bonds=False)"
   ]
  },
  {
   "cell_type": "markdown",
   "metadata": {},
   "source": [
    "## DFT example - persistent connection,  checkpointing\n",
    "\n",
    "- Doing MD or minimisation within a DFT code typically much faster than repeated single-point calls\n",
    "- `SocketCalculator` from `matscipy` package keeps code running, feeding it new configurations via POSIX sockets (local or remote)\n",
    "- Use high-level algorithms to move the atoms in complex ways, but still take advantage of internal optimisations like wavefunction extrapolation\n",
    "- Checkpointing after each force or energy call allows seamless continuation of complex workflows\n",
    "- Same Python script can be submitted as jobscript on cluster and run on laptop"
   ]
  },
  {
   "cell_type": "code",
   "execution_count": 60,
   "metadata": {
    "collapsed": false
   },
   "outputs": [
    {
     "name": "stdout",
     "output_type": "stream",
     "text": [
      "# {__init__}: No nsw key in vasp_args, setting nsw=1000000\n",
      "# {server_activate}: AtomsServer running on hudson.local 127.0.0.1:51013 with njobs=1\n",
      "FIRE:   0  13:23:03      -35.191978       0.2026\n",
      "FIRE:   1  13:23:03      -35.193557       0.1925\n",
      "FIRE:   2  13:23:03      -35.196437       0.1734\n",
      "FIRE:   3  13:23:04      -35.200040       0.1458\n",
      "FIRE:   4  13:23:04      -35.203660       0.1102\n",
      "FIRE:   5  13:23:04      -35.206586       0.0694\n",
      "FIRE:   6  13:23:04      -35.208236       0.0252\n",
      "FIRE:   7  13:23:04      -35.208278       0.0204\n",
      "FIRE:   8  13:23:04      -35.208282       0.0209\n",
      "FIRE:   9  13:23:04      -35.208290       0.0203\n",
      "FIRE:  10  13:23:05      -35.208303       0.0193\n",
      "FIRE:  11  13:23:05      -35.208319       0.0181\n",
      "FIRE:  12  13:23:05      -35.208337       0.0167\n",
      "FIRE:  13  13:23:05      -35.208357       0.0161\n",
      "FIRE:  14  13:23:05      -35.208377       0.0136\n",
      "FIRE:  15  13:23:05      -35.208400       0.0126\n",
      "FIRE:  16  13:23:05      -35.208422       0.0099\n",
      "FIRE:  17  13:23:05      -35.208443       0.0073\n",
      "FIRE:  18  13:23:06      -35.208459       0.0037\n",
      "FIRE:  19  13:23:06      -35.208465       0.0001\n",
      "VASP vacancy formation energy 2.09038054338 eV\n"
     ]
    }
   ],
   "source": [
    "import distutils.spawn as spawn\n",
    "from matscipy.socketcalc import SocketCalculator, VaspClient\n",
    "from matscipy.checkpoint import CheckpointCalculator\n",
    "from ase.lattice import bulk\n",
    "from ase.optimize import FIRE\n",
    "\n",
    "mpirun = spawn.find_executable('mpirun')\n",
    "vasp = spawn.find_executable('vasp')\n",
    "\n",
    "vasp_client = VaspClient(client_id=0, npj=2, ppn=12,\n",
    "                         exe=vasp, mpirun=mpirun, parmode='mpi', \n",
    "                         lwave=False, lcharg=False, ibrion=13,\n",
    "                         xc='PBE', kpts=[2,2,2])\n",
    "vasp = SocketCalculator(vasp_client)\n",
    "chk_vasp = CheckpointCalculator(vasp, 'vasp_checkpoint.db')\n",
    "\n",
    "si = bulk('Si', a=5.44, cubic=True)\n",
    "si.set_calculator(chk_vasp)\n",
    "e_bulk_per_atom = si.get_potential_energy()/len(si)\n",
    "\n",
    "vac3 = si.copy()\n",
    "del vac3[0]\n",
    "vac3.set_calculator(chk_vasp)\n",
    "\n",
    "opt = FIRE(vac3)\n",
    "opt.run(fmax=1e-3)\n",
    "e_vac3 = vac3.get_potential_energy()\n",
    "print 'VASP vacancy formation energy', e_vac3 - e_bulk_per_atom*len(vac3), 'eV'"
   ]
  },
  {
   "cell_type": "markdown",
   "metadata": {
    "slideshow": {
     "slide_type": "slide"
    }
   },
   "source": [
    "## File-based interfaces vs. Native interfaces\n",
    "\n",
    "- ASE provides file-based interfaces to a number of codes - useful for high throughput\n",
    "- However, file-based interfaces to electronic structure codes can be slow and/or incomplete and parsers are hard to keep up to date and robust\n",
    "- Standardised output (e.g. chemical markup language, XML) and robust parsers are part of solution\n",
    "- [NoMaD Centre of Excellence](http://nomad-coe.eu/) will produce parsers for top ~40 atomistic codes\n",
    "- Alternative: native interfaces provide a much deeper wrapping, exposing full public API of code to script writers\n",
    "    - e.g. GPAW, LAMMPSlib, new Castep Python interface\n",
    "\n",
    "![nomad](http://nomad-coe.eu/uploads/images/nomad_logo_v2.png)"
   ]
  },
  {
   "cell_type": "markdown",
   "metadata": {
    "slideshow": {
     "slide_type": "slide"
    }
   },
   "source": [
    "## Fortran/Python interfacing\n",
    "\n",
    "- Despite recent increases in use of high-level languages, there's still lots of high-quality Fortran code around\n",
    "- Adding \"deep\" Python interfaces to existing codes is another approach\n",
    "- Future proofing: anything accessible from Python is available from other high-level languages too (e.g. Julia)"
   ]
  },
  {
   "cell_type": "markdown",
   "metadata": {
    "slideshow": {
     "slide_type": "slide"
    }
   },
   "source": [
    "\n",
    "<img src=\"f90wrap.png\" align=\"left\" width=\"250\" style=\"padding:30px;\">\n",
    "\n",
    "\n",
    "# `f90wrap` adds derived type support to `f2py`\n",
    "\n",
    "- There are many automatic interface generators for C++ codes (e.g. SWIG or Boost.Python), but not many support modern Fortran\n",
    "    - [f2py](https://sysbio.ioc.ee/projects/f2py2e/) scans Fortran 77/90/95 codes, generates Python interfaces\n",
    "    - Great for individual routines or simple codes: portable, compiler independent, good array support\n",
    "    - No support for modern Fortran features: derived types, overloaded interfaces\n",
    "- Number of follow up projects, none had all features we needed\n",
    "- `f90wrap` addresses this by generating an additional layer of wrappers\n",
    "    - Supports derived types, module data, efficient array access, Python 2.6+ and 3.x\n",
    "\n",
    "https://github.com/jameskermode/f90wrap"
   ]
  },
  {
   "cell_type": "markdown",
   "metadata": {
    "slideshow": {
     "slide_type": "slide"
    }
   },
   "source": [
    "# Example: wrapping  the `bader` code\n",
    "\n",
    "- Widely used code for post-processing charge densities to construct Bader volumes\n",
    "- Python interface would allow code to be used as part of workflows without needing file format converters, I/O, etc.\n",
    "- Downloaded [source](http://theory.cm.utexas.edu/henkelman/code/bader/), used `f90wrap` to *automatically* generate a deep Python interface with very little manual work\n",
    "\n",
    "Generation and compilation of wrappers:\n",
    "\n",
    "    f90wrap -v -k kind_map -I init.py -m bader \\\n",
    "         kind_mod.f90 matrix_mod.f90 \\\n",
    "         ions_mod.f90 options_mod.f90 charge_mod.f90 \\\n",
    "         chgcar_mod.f90 cube_mod.f90 io_mod.f90 \\\n",
    "         bader_mod.f90 voronoi_mod.f90 multipole_mod.f90\n",
    "\n",
    "    f2py-f90wrap -c -m _bader f90wrap_*.f90 -L. -lbader"
   ]
  },
  {
   "cell_type": "code",
   "execution_count": 61,
   "metadata": {
    "collapsed": false
   },
   "outputs": [
    {
     "name": "stdout",
     "output_type": "stream",
     "text": [
      "\n",
      "  ___ ___ ___ _ _ _  \n",
      " |   |   |_  | | | | \n",
      " | | | | | . | | | | \n",
      " |__ |  _|___|_____|  0.12.0.13366\n",
      " |___|_|             \n",
      "\n",
      "User:   jameskermode@hudson.local\n",
      "Date:   Mon Nov 16 13:29:50 2015\n",
      "Arch:   x86_64\n",
      "Pid:    46591\n",
      "Python: 2.7.10\n",
      "gpaw:   //anaconda/lib/python2.7/site-packages/gpaw\n",
      "_gpaw:  //anaconda/lib/python2.7/site-packages/_gpaw.so\n",
      "ase:    //anaconda/lib/python2.7/site-packages/ase (version 3.10.0)\n",
      "numpy:  //anaconda/lib/python2.7/site-packages/numpy (version 1.10.1)\n",
      "scipy:  //anaconda/lib/python2.7/site-packages/scipy (version 0.16.0)\n",
      "units:  Angstrom and eV\n",
      "cores:  1\n",
      "\n",
      "Memory estimate\n",
      "---------------\n",
      "Process memory now: 480.42 MiB\n",
      "Calculator  67.31 MiB\n",
      "    Density  27.12 MiB\n",
      "        Arrays  4.35 MiB\n",
      "        Localized functions  21.09 MiB\n",
      "        Mixer  1.67 MiB\n",
      "    Hamiltonian  7.66 MiB\n",
      "        Arrays  2.85 MiB\n",
      "        XC  0.00 MiB\n",
      "        Poisson  3.24 MiB\n",
      "        vbar  1.57 MiB\n",
      "    Wavefunctions  32.53 MiB\n",
      "        Arrays psit_nG  9.38 MiB\n",
      "        Eigensolver  11.17 MiB\n",
      "        Projections  0.04 MiB\n",
      "        Projectors  2.55 MiB\n",
      "        Overlap op  9.39 MiB\n",
      "    .------------.  \n",
      "   /|            |  \n",
      "  / |  Si        |  \n",
      " *  |            |  \n",
      " |  |       Si   |  \n",
      " |Si|            |  \n",
      " |  |        Si  |  \n",
      " |  .SiSi--------.  \n",
      " | /            /   \n",
      " |/      Si    /    \n",
      " *------------*     \n",
      "\n",
      "Unit Cell:\n",
      "           Periodic     X           Y           Z      Points  Spacing\n",
      "  --------------------------------------------------------------------\n",
      "  1. axis:    yes    5.440000    0.000000    0.000000    28     0.1943\n",
      "  2. axis:    yes    0.000000    5.440000    0.000000    28     0.1943\n",
      "  3. axis:    yes    0.000000    0.000000    5.440000    28     0.1943\n",
      "\n",
      "Si-setup:\n",
      "  name   : Silicon\n",
      "  id     : ee77bee481871cc2cb65ac61239ccafa\n",
      "  Z      : 14\n",
      "  valence: 4\n",
      "  core   : 10\n",
      "  charge : 0.0\n",
      "  file   : /usr/local/share/gpaw-setups/Si.PBE.gz\n",
      "  cutoffs: 1.06(comp), 1.86(filt), 2.06(core), lmax=2\n",
      "  valence states:\n",
      "            energy   radius\n",
      "    3s(2.00) -10.812   1.058\n",
      "    3p(2.00)  -4.081   1.058\n",
      "    *s      16.399   1.058\n",
      "    *p      23.131   1.058\n",
      "    *d       0.000   1.058\n",
      "\n",
      "Using partial waves for Si as LCAO basis\n",
      "\n",
      "Using the PBE Exchange-Correlation Functional.\n",
      "Spin-Paired Calculation\n",
      "Total Charge: 0.000000\n",
      "Fermi Temperature: 0.100000\n",
      "Wave functions: Uniform real-space grid\n",
      "Kinetic energy operator: 6*3+1=19 point O(h^6) finite-difference Laplacian\n",
      "Eigensolver: Davidson(niter=1, smin=None, normalize=True)\n",
      "XC and Coulomb potentials evaluated on a 56*56*56 grid\n",
      "Interpolation: tri-quintic (5. degree polynomial)\n",
      "Poisson solver: Jacobi solver with 4 multi-grid levels\n",
      "    Coarsest grid: 7 x 7 x 7 points\n",
      "    Stencil: 6*3+1=19 point O(h^6) finite-difference Laplacian\n",
      "    Tolerance: 2.000000e-10\n",
      "    Max iterations: 1000\n",
      "Reference Energy: -55204.429291\n",
      "\n",
      "Total number of cores used: 1\n",
      "MatrixOperator buffer_size: default value or \n",
      "                            see value of nblock in input file\n",
      "Diagonalizer layout: Serial LAPACK\n",
      "Orthonormalizer layout: Serial LAPACK\n",
      "\n",
      "Symmetries present (total): 24\n",
      "\n",
      "  ( 1  0  0)  ( 1  0  0)  ( 1  0  0)  ( 1  0  0)  ( 0  1  0)  ( 0  1  0)\n",
      "  ( 0  1  0)  ( 0  0  1)  ( 0  0 -1)  ( 0 -1  0)  ( 1  0  0)  ( 0  0  1)\n",
      "  ( 0  0  1)  ( 0  1  0)  ( 0 -1  0)  ( 0  0 -1)  ( 0  0  1)  ( 1  0  0)\n",
      "\n",
      "  ( 0  1  0)  ( 0  1  0)  ( 0  0  1)  ( 0  0  1)  ( 0  0  1)  ( 0  0  1)\n",
      "  ( 0  0 -1)  (-1  0  0)  ( 1  0  0)  ( 0  1  0)  ( 0 -1  0)  (-1  0  0)\n",
      "  (-1  0  0)  ( 0  0 -1)  ( 0  1  0)  ( 1  0  0)  (-1  0  0)  ( 0 -1  0)\n",
      "\n",
      "  ( 0  0 -1)  ( 0  0 -1)  ( 0  0 -1)  ( 0  0 -1)  ( 0 -1  0)  ( 0 -1  0)\n",
      "  ( 1  0  0)  ( 0  1  0)  ( 0 -1  0)  (-1  0  0)  ( 1  0  0)  ( 0  0  1)\n",
      "  ( 0 -1  0)  (-1  0  0)  ( 1  0  0)  ( 0  1  0)  ( 0  0 -1)  (-1  0  0)\n",
      "\n",
      "  ( 0 -1  0)  ( 0 -1  0)  (-1  0  0)  (-1  0  0)  (-1  0  0)  (-1  0  0)\n",
      "  ( 0  0 -1)  (-1  0  0)  ( 0  1  0)  ( 0  0  1)  ( 0  0 -1)  ( 0 -1  0)\n",
      "  ( 1  0  0)  ( 0  0  1)  ( 0  0 -1)  ( 0 -1  0)  ( 0  1  0)  ( 0  0  1)\n",
      "\n",
      "8 k-points: 2 x 2 x 2 Monkhorst-Pack grid\n",
      "1 k-point in the Irreducible Part of the Brillouin Zone\n",
      "\n",
      "          k-points in crystal coordinates                weights\n",
      "   0:     0.25000000    0.25000000    0.25000000          8/8\n",
      "\n",
      "Mixer Type: Mixer\n",
      "Linear Mixing Parameter: 0.05\n",
      "Mixing with 5 Old Densities\n",
      "Damping of Long Wave Oscillations: 50\n",
      "\n",
      "Convergence Criteria:\n",
      "    Total Energy Change: 0.0005 eV / electron\n",
      "    Integral of Absolute Density Change: 0.0001 electrons\n",
      "    Integral of Absolute Eigenstate Change: 4e-08 eV^2\n",
      "Number of Atoms: 7\n",
      "Number of Atomic Orbitals: 28\n",
      "Number of Bands in Calculation: 28\n",
      "Bands to Converge: Occupied States Only\n",
      "Number of Valence Electrons: 28\n",
      "Memory usage: 480.42 MiB\n",
      "==========================================\n",
      "Timing:             incl.     excl.\n",
      "==========================================\n",
      "Read:               0.003     0.001   0.0% |\n",
      " Band energies:     0.000     0.000   0.0% |\n",
      " Density:           0.001     0.001   0.0% |\n",
      " Hamiltonian:       0.001     0.001   0.0% |\n",
      " Projections:       0.000     0.000   0.0% |\n",
      " Redistribute:      0.000     0.000   0.0% |\n",
      "Set symmetry:       0.348     0.348   0.0% |\n",
      "Other:           4510.593  4510.593 100.0% |---------------------------------------|\n",
      "==========================================\n",
      "Total:                     4510.945 100.0%\n",
      "==========================================\n",
      "date: Mon Nov 16 13:29:50 2015\n"
     ]
    }
   ],
   "source": [
    "from gpaw import restart\n",
    "si, gpaw = restart('si-vac.gpw')\n",
    "rho = gpaw.get_pseudo_density()"
   ]
  },
  {
   "cell_type": "code",
   "execution_count": 62,
   "metadata": {
    "collapsed": false,
    "scrolled": false,
    "slideshow": {
     "slide_type": "slide"
    }
   },
   "outputs": [
    {
     "data": {
      "text/plain": [
       "<matplotlib.image.AxesImage at 0x117571410>"
      ]
     },
     "execution_count": 62,
     "metadata": {},
     "output_type": "execute_result"
    },
    {
     "data": {
      "image/png": "[encoded data removed]",
      "text/plain": [
       "<matplotlib.figure.Figure at 0x10e4282d0>"
      ]
     },
     "metadata": {},
     "output_type": "display_data"
    }
   ],
   "source": [
    "atom = 5\n",
    "plot(si.positions[:, 0], si.positions[:, 1], 'k.', ms=20)\n",
    "plot(si.positions[atom, 0], si.positions[5, 1], 'g.', ms=20)\n",
    "imshow(rho[:,:,0], extent=[0, si.cell[0,0], 0, si.cell[1,1]])"
   ]
  },
  {
   "cell_type": "code",
   "execution_count": 63,
   "metadata": {
    "collapsed": false,
    "slideshow": {
     "slide_type": "slide"
    }
   },
   "outputs": [],
   "source": [
    "import bader\n",
    "bdr = bader.bader(si, rho)"
   ]
  },
  {
   "cell_type": "code",
   "execution_count": 66,
   "metadata": {
    "collapsed": false
   },
   "outputs": [
    {
     "data": {
      "text/plain": [
       "24"
      ]
     },
     "execution_count": 66,
     "metadata": {},
     "output_type": "execute_result"
    }
   ],
   "source": [
    "bdr.nvols"
   ]
  },
  {
   "cell_type": "code",
   "execution_count": 67,
   "metadata": {
    "collapsed": false,
    "scrolled": true,
    "slideshow": {
     "slide_type": "-"
    }
   },
   "outputs": [
    {
     "data": {
      "text/plain": [
       "<matplotlib.image.AxesImage at 0x110e33450>"
      ]
     },
     "execution_count": 67,
     "metadata": {},
     "output_type": "execute_result"
    },
    {
     "data": {
      "image/png": "[encoded data removed]",
      "text/plain": [
       "<matplotlib.figure.Figure at 0x119ece490>"
      ]
     },
     "metadata": {},
     "output_type": "display_data"
    }
   ],
   "source": [
    "# collect Bader volumes associated with atom #5\n",
    "mask = np.zeros_like(rho, dtype=bool)\n",
    "for v in (bdr.nnion == atom+1).nonzero()[0]:\n",
    "    mask[bdr.volnum == v+1] = True\n",
    "    \n",
    "plot(si.positions[:, 0], si.positions[:, 1], 'k.', ms=20)\n",
    "plot(si.positions[atom, 0], si.positions[5, 1], 'g.', ms=20)\n",
    "imshow(rho[:,:,0],  extent=[0, si.cell[0,0], 0, si.cell[1,1]])\n",
    "imshow(mask[:,:,0], extent=[0, si.cell[0,0], 0, si.cell[1,1]], alpha=.6)"
   ]
  },
  {
   "cell_type": "markdown",
   "metadata": {},
   "source": [
    "# Wrapping Castep with f90wrap\n",
    "\n",
    "- `f90wrap` can now wrap large and complex codes like the Castep electronic structure code, providing deep access to internal data on-the-fly \n",
    "- Summer internship by Greg Corbett at STFC in 2014 produced proof-of-principle implementation\n",
    "- Results described in [RAL technical report](https://epubs.stfc.ac.uk/work/18048381)\n",
    "- Since then I've tidied it up a little and added a minimal high-level ASE-compatibility layer, but there's plenty more still to be done\n",
    "\n",
    "![Castep](http://www.castep.org/files/CASTEP_Logo_mini-01.png)"
   ]
  },
  {
   "cell_type": "markdown",
   "metadata": {},
   "source": [
    "## Current Features\n",
    "\n",
    "- Implemented in Castep development release:\n",
    "        make python\n",
    "- Restricted set of source files currently wrapped, can be easily expanded.\n",
    "        Utility:     constants.F90 algor.F90 \n",
    "                     comms.serial.F90\n",
    "                     io.F90 trace.F90 \n",
    "                     license.F90 buildinfo.f90\n",
    "        Fundamental: parameters.F90 cell.F90 basis.F90 \n",
    "                     ion.F90 density.F90 wave.F90\n",
    "        Functional:  model.F90 electronic.F90 firstd.f90\n",
    "        \n",
    "- Already **far** too much to wrap by hand!\n",
    "   - 35 kLOC Fortran and 55 kLOC Python auto-generated \n",
    "   - 23 derived types \n",
    "   - ~2600 subroutines/functions"
   ]
  },
  {
   "cell_type": "markdown",
   "metadata": {},
   "source": [
    "## What is wrapped?\n",
    "- Module-level variables: `current_cell`, etc.\n",
    "- Fortran derived types visible as Python classes: e.g. `Unit_Cell`\n",
    "- Arrays (including arrays of derived types) - no copying necessary to access/modify data in numerical arrays e.g. `current_cell%ionic_positions`\n",
    "- Documentation strings extracted from source code\n",
    "- Dynamic introspection of data and objects\n",
    "- Error catching: `io_abort()` raises `RuntimeError` exception, allowing post mortem debugging\n",
    "- Minimal ASE-compatible high level interface"
   ]
  },
  {
   "cell_type": "markdown",
   "metadata": {},
   "source": [
    "# Test drive"
   ]
  },
  {
   "cell_type": "code",
   "execution_count": 68,
   "metadata": {
    "collapsed": false
   },
   "outputs": [],
   "source": [
    "import castep"
   ]
  },
  {
   "cell_type": "code",
   "execution_count": 69,
   "metadata": {
    "collapsed": false
   },
   "outputs": [],
   "source": [
    "#castep.\n",
    "#castep.cell.Unit_Cell.\n",
    "castep.model.model_wave_read?"
   ]
  },
  {
   "cell_type": "markdown",
   "metadata": {
    "collapsed": false
   },
   "source": [
    "## Single point calculation"
   ]
  },
  {
   "cell_type": "code",
   "execution_count": 70,
   "metadata": {
    "collapsed": false
   },
   "outputs": [
    {
     "name": "stdout",
     "output_type": "stream",
     "text": [
      "Energy -401.419912223 eV\n",
      "Forces (eV/A):\n",
      "[[-0.12335761 -0.12340173 -0.12332035]\n",
      " [ 0.12335492  0.12337595  0.12332078]\n",
      " [-0.123409   -0.1233628  -0.12327315]\n",
      " [ 0.12330122  0.1233129   0.12334265]\n",
      " [-0.12330156 -0.1234069  -0.12336426]\n",
      " [ 0.12335953  0.12338503  0.12331035]\n",
      " [-0.12334791 -0.12329187 -0.12338976]\n",
      " [ 0.1234004   0.12338941  0.12337375]]\n"
     ]
    }
   ],
   "source": [
    "from ase.lattice.cubic import Diamond\n",
    "atoms = Diamond('Si')\n",
    "calc = castep.calculator.CastepCalculator(atoms=atoms)\n",
    "atoms.set_calculator(calc)\n",
    "e = atoms.get_potential_energy()\n",
    "f = atoms.get_forces()\n",
    "print 'Energy', e, 'eV'\n",
    "print 'Forces (eV/A):'\n",
    "print f"
   ]
  },
  {
   "cell_type": "markdown",
   "metadata": {},
   "source": [
    "## Interactive introspection"
   ]
  },
  {
   "cell_type": "code",
   "execution_count": 74,
   "metadata": {
    "collapsed": false
   },
   "outputs": [],
   "source": [
    "#calc.model.eigenvalues\n",
    "#calc.model.wvfn.coeffs\n",
    "#calc.model.cell.ionic_positions.T\n",
    "#calc.model.wvfn.\n",
    "#calc.parameters.cut_off_energy"
   ]
  },
  {
   "cell_type": "code",
   "execution_count": 75,
   "metadata": {
    "collapsed": false
   },
   "outputs": [
    {
     "data": {
      "text/plain": [
       "(-0.5, 0.5)"
      ]
     },
     "execution_count": 75,
     "metadata": {},
     "output_type": "execute_result"
    },
    {
     "data": {
      "image/png": "[encoded data removed]",
      "text/plain": [
       "<matplotlib.figure.Figure at 0x1174a7ad0>"
      ]
     },
     "metadata": {},
     "output_type": "display_data"
    }
   ],
   "source": [
    "figsize(8,6)\n",
    "plot(castep.ion.get_array_core_radial_charge())\n",
    "plot(castep.ion.get_array_atomic_radial_charge())\n",
    "ylim(-0.5,0.5)"
   ]
  },
  {
   "cell_type": "markdown",
   "metadata": {},
   "source": [
    "## Visualise charge density isosurfaces on-the-fly"
   ]
  },
  {
   "cell_type": "code",
   "execution_count": 76,
   "metadata": {
    "collapsed": false
   },
   "outputs": [],
   "source": [
    "# grid points, in Angstrom\n",
    "real_grid = (castep.basis.get_array_r_real_grid()*\n",
    "             castep.io.io_atomic_to_unit(1.0, 'ang'))\n",
    "resolution = [castep.basis.get_ngx(), \n",
    "              castep.basis.get_ngy(), \n",
    "              castep.basis.get_ngz()]\n",
    "origin = np.array([real_grid[i, :].min() for i in range(3)])\n",
    "extent = np.array([real_grid[i, :].max() for i in range(3)]) - origin\n",
    "\n",
    "# charge density resulting from SCF\n",
    "den = calc.model.den.real_charge.copy()\n",
    "den3 = (den.reshape(resolution, order='F') / \n",
    "        castep.basis.get_total_fine_grid_points())\n",
    "\n",
    "# visualise system with isosurface of charge density at 0.002\n",
    "viewer = view(atoms)\n",
    "viewer.add_isosurface_grid_data(den3, origin, extent, resolution,\n",
    "                                isolevel=0.002, color=0x0000ff,\n",
    "                                style='solid')\n",
    "viewer"
   ]
  },
  {
   "cell_type": "markdown",
   "metadata": {},
   "source": [
    "## Postprocessing/steering of running calculations\n",
    "\n",
    "- Connect Castep and Bader codes without writing any explicit interface or converter"
   ]
  },
  {
   "cell_type": "code",
   "execution_count": 77,
   "metadata": {
    "collapsed": false
   },
   "outputs": [
    {
     "data": {
      "text/html": [
       "<table><tr><td><b>Ion</b></td><td><b>Charge</b></td><td><b>Volume</b></td></tr><tr><td>0.00</td><td>0.03</td><td>78.00</td></tr><tr><td>1.00</td><td>0.06</td><td>178.35</td></tr><tr><td>2.00</td><td>0.05</td><td>141.46</td></tr><tr><td>3.00</td><td>0.07</td><td>193.28</td></tr><tr><td>4.00</td><td>0.04</td><td>106.92</td></tr><tr><td>5.00</td><td>0.06</td><td>176.24</td></tr><tr><td>6.00</td><td>0.03</td><td>76.36</td></tr><tr><td>7.00</td><td>0.04</td><td>129.82</td></tr></table>"
      ],
      "text/plain": [
       "[['<b>Ion</b>', '<b>Charge</b>', '<b>Volume</b>'],\n",
       " ['0.00', '0.03', '78.00'],\n",
       " ['1.00', '0.06', '178.35'],\n",
       " ['2.00', '0.05', '141.46'],\n",
       " ['3.00', '0.07', '193.28'],\n",
       " ['4.00', '0.04', '106.92'],\n",
       " ['5.00', '0.06', '176.24'],\n",
       " ['6.00', '0.03', '76.36'],\n",
       " ['7.00', '0.04', '129.82']]"
      ]
     },
     "execution_count": 77,
     "metadata": {},
     "output_type": "execute_result"
    }
   ],
   "source": [
    "from display import ListTable\n",
    "from bader import bader\n",
    "bdr = bader(atoms, den3)\n",
    "\n",
    "rows = ListTable()\n",
    "rows.append(['<b>{0}</b>'.format(hd) for hd in ['Ion', 'Charge', 'Volume']])\n",
    "for i, (chg, vol) in enumerate(zip(bdr.ionchg, bdr.ionvol)):\n",
    "    rows.append(['{0:.2f}'.format(d) for d in [i, chg, vol] ])\n",
    "rows"
   ]
  },
  {
   "cell_type": "markdown",
   "metadata": {},
   "source": [
    "So far this is just analysis/post-processing, but could easily go beyond this and steer calculations based on results of e.g. Bader analysis."
   ]
  },
  {
   "cell_type": "markdown",
   "metadata": {},
   "source": [
    "## Updating data inside a running Castep instance\n",
    "\n",
    "We can move the ions and continue the calculation without having to restart electronic minimisation from scratch (or do any I/O of `.check` files etc.). Here's how the core of the electronic minimisation is coded in Python, almost entirely calling auto-generated routines:\n",
    "\n",
    "```python\n",
    "    new_cell = atoms_to_cell(atoms, kpts=self.kpts)\n",
    "    castep.cell.copy(new_cell, self.current_cell)\n",
    "    self.model.wvfn.have_beta_phi = False\n",
    "    castep.wave.wave_sorthonormalise(self.model.wvfn)\n",
    "    self.model.total_energy, self.model.converged = \\\n",
    "        electronic_minimisation(self.model.wvfn, \n",
    "                                self.model.den, \n",
    "                                self.model.occ, \n",
    "                                self.model.eigenvalues, \n",
    "                                self.model.fermi_energy)\n",
    "    self.results['energy'] = io_atomic_to_unit(self.model.total_energy, 'eV')\n",
    "```"
   ]
  },
  {
   "cell_type": "code",
   "execution_count": 78,
   "metadata": {
    "collapsed": true
   },
   "outputs": [],
   "source": [
    "castep.wave.wave_orthogonalise?"
   ]
  },
  {
   "cell_type": "markdown",
   "metadata": {},
   "source": [
    "## Example - geometry optimisation\n",
    "\n",
    "Use embedded Castep efficiently as a standard ASE calculator, giving access to all of the existing high-level algorithms: geometry optimisation, NEB, basin hopping, etc.\n",
    " - Compared to file-based interface, save overhead of restarting Castep for each call\n",
    " - Reuse electronic model from one ionic configuration to the next\n",
    " - Wavefunction and charge density extrapolation possible just as in MD"
   ]
  },
  {
   "cell_type": "code",
   "execution_count": 80,
   "metadata": {
    "collapsed": false
   },
   "outputs": [
    {
     "name": "stdout",
     "output_type": "stream",
     "text": [
      "LBFGS:   0  13:42:06     -401.372736       0.0903\n"
     ]
    }
   ],
   "source": [
    "from ase.optimize import LBFGS\n",
    "atoms.rattle(0.01)\n",
    "opt = LBFGS(atoms)\n",
    "opt.run(fmax=0.1)"
   ]
  },
  {
   "cell_type": "markdown",
   "metadata": {},
   "source": [
    "## Developing and testing new high-level algorithms\n",
    "\n",
    "Having a Python interface makes it quick to try out new high-level algorithms. \n",
    "\n",
    "- e.g. I'm working on a general-purpose preconditioner for geometry optimisation with Christoph Ortner (Warwick), let's try that with Castep\n",
    "- This was implemented in a general purpose Python code by Warwick summer student John Woolley, just plug in Castep and off we go!"
   ]
  },
  {
   "cell_type": "code",
   "execution_count": 81,
   "metadata": {
    "collapsed": false
   },
   "outputs": [
    {
     "name": "stdout",
     "output_type": "stream",
     "text": [
      "No preconditioner\n",
      "LBFGS:   0  13:43:33     -401.438808       0.2319\n",
      "LBFGS:   1  13:43:35     -401.442860       0.2484\n",
      "LBFGS:   2  13:43:38     -401.412385       0.0564\n",
      "LBFGS:   3  13:43:41     -401.411553       0.0407\n",
      "LBFGS:   4  13:43:42     -401.411726       0.0431\n",
      "LBFGS:   5  13:43:45     -401.410910       0.0318\n",
      "LBFGS:   6  13:43:47     -401.410539       0.0263\n",
      "LBFGS:   7  13:43:50     -401.410235       0.0194\n",
      "LBFGS:   8  13:43:52     -401.410229       0.0171\n",
      "LBFGS:   9  13:43:53     -401.410238       0.0178\n",
      "LBFGS:  10  13:43:55     -401.410182       0.0163\n",
      "LBFGS:  11  13:43:57     -401.410165       0.0156\n",
      "LBFGS:  12  13:43:59     -401.410104       0.0124\n",
      "LBFGS:  13  13:44:01     -401.410060       0.0096\n",
      "Exp preconditioner\n",
      "LBFGS:   0  13:44:15     -401.438808       0.2317\n",
      "LBFGS:   1  13:44:20     -401.412285       0.0498\n",
      "LBFGS:   2  13:44:23     -401.410115       0.0169\n",
      "LBFGS:   3  13:44:25     -401.410006       0.0030\n"
     ]
    }
   ],
   "source": [
    "from ase.lattice import bulk\n",
    "import castep\n",
    "import preconpy.lbfgs as lbfgs\n",
    "import preconpy.precon as precon\n",
    "from preconpy.utils import LoggingCalculator\n",
    "\n",
    "atoms = bulk('Si', cubic=True)\n",
    "s = atoms.get_scaled_positions()\n",
    "s[:, 0] *= 0.98\n",
    "atoms.set_scaled_positions(s)\n",
    "initial_atoms = atoms\n",
    "log_calc = LoggingCalculator(None)\n",
    "\n",
    "for precon, label in zip([None, precon.Exp(A=3, use_pyamg=False)],\n",
    "                         ['No preconditioner', 'Exp preconditioner']):\n",
    "    print label\n",
    "    atoms = initial_atoms.copy()\n",
    "    calc = castep.calculator.CastepCalculator(atoms=atoms)\n",
    "    log_calc.calculator = calc\n",
    "    log_calc.label = label\n",
    "    \n",
    "    atoms.set_calculator(log_calc)    \n",
    "    opt = lbfgs.LBFGS(atoms, \n",
    "                      precon=precon, \n",
    "                      use_line_search=False)\n",
    "    opt.run(fmax=1e-2)"
   ]
  },
  {
   "cell_type": "markdown",
   "metadata": {},
   "source": [
    "# Conclusions and Outlook\n",
    "\n",
    "- Scripting interfaces can be very useful for automating calculations, or connecting components in new ways\n",
    "- Can give lecacy C/Fortran code a new lease of life\n",
    "- Provides interactive environment for testing, debugging, development and visualisation\n",
    "- Appropriate mix of high- and low-level languages maximses overall efficiency\n",
    "- **CSC MSc [project](https://www2.warwick.ac.uk/fac/sci/csc/teaching/taughtdegrees/msc/projects/csc-msc-project-jameskermode-pythoncastep.pdf) available on extending Castep/Python interface**"
   ]
  },
  {
   "cell_type": "markdown",
   "metadata": {
    "slideshow": {
     "slide_type": "slide"
    }
   },
   "source": [
    "#  Links and References\n",
    "- `QUIP` developed with Gábor Csányi, Noam Bernstein, et al.\n",
    "    - Code https://github.com/libAtoms/QUIP\n",
    "    - Documentation http://libatoms.github.io/QUIP\n",
    "- `matscipy` https://github.com/libAtoms/matscipy, developed with Lars Pastewka, KIT\n",
    "- `f90wrap` https://github.com/jameskermode/f90wrap\n",
    "- `chemview` https://github.com/gabrielelanaro/chemview/ by Gabriele Lanaro\n",
    "- [RAL technical report](https://epubs.stfc.ac.uk/work/18048381) on Castep/Python interface:\n",
    "  G Corbett, J Kermode, D Jochym and K Refson\n"
   ]
  }
 ],
 "metadata": {
  "kernelspec": {
   "display_name": "Python 2",
   "language": "python",
   "name": "python2"
  },
  "language_info": {
   "codemirror_mode": {
    "name": "ipython",
    "version": 2
   },
   "file_extension": ".py",
   "mimetype": "text/x-python",
   "name": "python",
   "nbconvert_exporter": "python",
   "pygments_lexer": "ipython2",
   "version": "2.7.10"
  }
 },
 "nbformat": 4,
 "nbformat_minor": 0
}
